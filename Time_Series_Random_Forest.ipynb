{
 "cells": [
  {
   "cell_type": "markdown",
   "metadata": {},
   "source": [
    "# Google Store Ecommerce Data + Fake Retail Data"
   ]
  },
  {
   "cell_type": "markdown",
   "metadata": {},
   "source": [
    "In this notebook, let's see one of the easiest ways of forecasting quantities with different regression models.\n",
    "\n",
    "# Importing required libraries "
   ]
  },
  {
   "cell_type": "code",
   "execution_count": 18,
   "metadata": {
    "scrolled": true
   },
   "outputs": [],
   "source": [
    "import pandas as pd\n",
    "import numpy as np\n",
    "import matplotlib.pyplot as plt\n",
    "import seaborn as sns \n",
    "from datetime import date \n",
    "import holidays \n",
    "from sklearn.neighbors import KNeighborsRegressor\n",
    "from sklearn.linear_model import LinearRegression\n",
    "from sklearn.ensemble import RandomForestRegressor\n",
    "from sklearn.linear_model import Lasso\n",
    "from sklearn.linear_model import ElasticNet\n",
    "from sklearn.tree import DecisionTreeRegressor\n",
    "from sklearn.neighbors import KNeighborsRegressor\n",
    "from sklearn.ensemble import GradientBoostingRegressor\n",
    "from sklearn.metrics import r2_score\n",
    "from sklearn.model_selection import train_test_split"
   ]
  },
  {
   "cell_type": "markdown",
   "metadata": {},
   "source": [
    "Reading CSV files "
   ]
  },
  {
   "cell_type": "code",
   "execution_count": 19,
   "metadata": {
    "scrolled": true
   },
   "outputs": [],
   "source": [
    "marketing_spent = pd.read_csv('../Kaggle_datasets/Google_Store_Ecommerce_Data/Marketing_Spend.csv')\n",
    "online = pd.read_csv('../Kaggle_datasets/Google_Store_Ecommerce_Data/Online.csv')"
   ]
  },
  {
   "cell_type": "code",
   "execution_count": 20,
   "metadata": {
    "scrolled": true
   },
   "outputs": [
    {
     "data": {
      "text/html": [
       "<div>\n",
       "<style scoped>\n",
       "    .dataframe tbody tr th:only-of-type {\n",
       "        vertical-align: middle;\n",
       "    }\n",
       "\n",
       "    .dataframe tbody tr th {\n",
       "        vertical-align: top;\n",
       "    }\n",
       "\n",
       "    .dataframe thead th {\n",
       "        text-align: right;\n",
       "    }\n",
       "</style>\n",
       "<table border=\"1\" class=\"dataframe\">\n",
       "  <thead>\n",
       "    <tr style=\"text-align: right;\">\n",
       "      <th></th>\n",
       "      <th>Unnamed: 0</th>\n",
       "      <th>Offline Spend</th>\n",
       "      <th>Online Spend</th>\n",
       "    </tr>\n",
       "  </thead>\n",
       "  <tbody>\n",
       "    <tr>\n",
       "      <th>0</th>\n",
       "      <td>2017-01-01</td>\n",
       "      <td>4500</td>\n",
       "      <td>2424.50</td>\n",
       "    </tr>\n",
       "    <tr>\n",
       "      <th>1</th>\n",
       "      <td>2017-01-02</td>\n",
       "      <td>4500</td>\n",
       "      <td>3480.36</td>\n",
       "    </tr>\n",
       "  </tbody>\n",
       "</table>\n",
       "</div>"
      ],
      "text/plain": [
       "   Unnamed: 0  Offline Spend  Online Spend\n",
       "0  2017-01-01           4500       2424.50\n",
       "1  2017-01-02           4500       3480.36"
      ]
     },
     "execution_count": 20,
     "metadata": {},
     "output_type": "execute_result"
    }
   ],
   "source": [
    "marketing_spent.head(2)"
   ]
  },
  {
   "cell_type": "code",
   "execution_count": 21,
   "metadata": {
    "scrolled": true
   },
   "outputs": [
    {
     "data": {
      "text/html": [
       "<div>\n",
       "<style scoped>\n",
       "    .dataframe tbody tr th:only-of-type {\n",
       "        vertical-align: middle;\n",
       "    }\n",
       "\n",
       "    .dataframe tbody tr th {\n",
       "        vertical-align: top;\n",
       "    }\n",
       "\n",
       "    .dataframe thead th {\n",
       "        text-align: right;\n",
       "    }\n",
       "</style>\n",
       "<table border=\"1\" class=\"dataframe\">\n",
       "  <thead>\n",
       "    <tr style=\"text-align: right;\">\n",
       "      <th></th>\n",
       "      <th>Transaction ID</th>\n",
       "      <th>Date</th>\n",
       "      <th>Product SKU</th>\n",
       "      <th>Product</th>\n",
       "      <th>Product Category (Enhanced E-commerce)</th>\n",
       "      <th>Quantity</th>\n",
       "      <th>Avg. Price</th>\n",
       "      <th>Revenue</th>\n",
       "      <th>Tax</th>\n",
       "      <th>Delivery</th>\n",
       "    </tr>\n",
       "  </thead>\n",
       "  <tbody>\n",
       "    <tr>\n",
       "      <th>0</th>\n",
       "      <td>48497</td>\n",
       "      <td>20171231</td>\n",
       "      <td>GGOENEBQ079099</td>\n",
       "      <td>Nest® Protect Smoke + CO White Battery Alarm-USA</td>\n",
       "      <td>Nest-USA</td>\n",
       "      <td>4.0</td>\n",
       "      <td>80.52</td>\n",
       "      <td>316.0</td>\n",
       "      <td>34.44</td>\n",
       "      <td>19.99</td>\n",
       "    </tr>\n",
       "    <tr>\n",
       "      <th>1</th>\n",
       "      <td>48496</td>\n",
       "      <td>20171231</td>\n",
       "      <td>GGOENEBQ079199</td>\n",
       "      <td>Nest® Protect Smoke + CO White Wired Alarm-USA</td>\n",
       "      <td>Nest-USA</td>\n",
       "      <td>5.0</td>\n",
       "      <td>80.52</td>\n",
       "      <td>395.0</td>\n",
       "      <td>33.14</td>\n",
       "      <td>6.50</td>\n",
       "    </tr>\n",
       "  </tbody>\n",
       "</table>\n",
       "</div>"
      ],
      "text/plain": [
       "   Transaction ID      Date     Product SKU  \\\n",
       "0           48497  20171231  GGOENEBQ079099   \n",
       "1           48496  20171231  GGOENEBQ079199   \n",
       "\n",
       "                                            Product  \\\n",
       "0  Nest® Protect Smoke + CO White Battery Alarm-USA   \n",
       "1    Nest® Protect Smoke + CO White Wired Alarm-USA   \n",
       "\n",
       "  Product Category (Enhanced E-commerce)  Quantity  Avg. Price  Revenue  \\\n",
       "0                               Nest-USA       4.0       80.52    316.0   \n",
       "1                               Nest-USA       5.0       80.52    395.0   \n",
       "\n",
       "     Tax  Delivery  \n",
       "0  34.44     19.99  \n",
       "1  33.14      6.50  "
      ]
     },
     "execution_count": 21,
     "metadata": {},
     "output_type": "execute_result"
    }
   ],
   "source": [
    "online.head(2)"
   ]
  },
  {
   "cell_type": "markdown",
   "metadata": {},
   "source": [
    "\n",
    "\n",
    "1. Renaming columns as the Date column in names as \"Unnamed\" in marketing_spent csv file.\n",
    "2. Changing Date format in online csv file from YYYYMMDD to YYYY-MM-DD."
   ]
  },
  {
   "cell_type": "code",
   "execution_count": 22,
   "metadata": {
    "scrolled": true
   },
   "outputs": [],
   "source": [
    "marketing_spent.rename(columns = {'Unnamed: 0':'Date'}, inplace = True) \n",
    "marketing_spent['Date']= pd.to_datetime(marketing_spent['Date'])\n",
    "online['Date'] = pd.to_datetime(online['Date'], format='%Y%m%d')"
   ]
  },
  {
   "cell_type": "markdown",
   "metadata": {},
   "source": [
    "understanding Online dataset"
   ]
  },
  {
   "cell_type": "code",
   "execution_count": 23,
   "metadata": {
    "scrolled": true
   },
   "outputs": [
    {
     "name": "stdout",
     "output_type": "stream",
     "text": [
      "Total number of rows: 54144\n",
      "Total number of colums: 10\n",
      "\n",
      "\n",
      "List of columns: ['Transaction ID', 'Date', 'Product SKU', 'Product', 'Product Category (Enhanced E-commerce)', 'Quantity', 'Avg. Price', 'Revenue', 'Tax', 'Delivery']\n",
      "\n",
      "\n",
      "Min Date: 2017-01-01 00:00:00\n",
      "Max Date: 2017-12-31 00:00:00\n",
      "\n",
      "\n",
      "Datatypes:\n",
      " Transaction ID                                     int64\n",
      "Date                                      datetime64[ns]\n",
      "Product SKU                                       object\n",
      "Product                                           object\n",
      "Product Category (Enhanced E-commerce)            object\n",
      "Quantity                                         float64\n",
      "Avg. Price                                       float64\n",
      "Revenue                                          float64\n",
      "Tax                                              float64\n",
      "Delivery                                         float64\n",
      "dtype: object\n",
      "\n",
      "\n",
      "Unique values:\n",
      " Transaction ID                            25220\n",
      "Date                                        365\n",
      "Product SKU                                1178\n",
      "Product                                     434\n",
      "Product Category (Enhanced E-commerce)       20\n",
      "Quantity                                    151\n",
      "Avg. Price                                  564\n",
      "Revenue                                    6064\n",
      "Tax                                        3844\n",
      "Delivery                                    267\n",
      "dtype: int64\n",
      "\n",
      "\n",
      "Missing values:\n",
      " Transaction ID                               0\n",
      "Date                                         0\n",
      "Product SKU                                  0\n",
      "Product                                      0\n",
      "Product Category (Enhanced E-commerce)    1216\n",
      "Quantity                                     5\n",
      "Avg. Price                                   0\n",
      "Revenue                                      0\n",
      "Tax                                          0\n",
      "Delivery                                     0\n",
      "dtype: int64\n",
      "\n",
      "\n",
      "Quantitative analysis\n",
      "        Transaction ID      Quantity    Avg. Price       Revenue           Tax  \\\n",
      "count    54144.000000  54139.000000  54144.000000  54144.000000  54144.000000   \n",
      "mean     32337.041833      4.538429     51.483895    277.012997     14.731828   \n",
      "std       8633.814868     20.031432     63.589249    902.588057     26.841324   \n",
      "min      16679.000000      1.000000      0.390000      0.500000      0.000000   \n",
      "25%      25332.000000      1.000000      5.590000     53.170000      0.000000   \n",
      "50%      32548.000000      1.000000     16.990000    119.990000      6.810000   \n",
      "75%      39008.250000      2.000000    100.910000    268.000000     17.840000   \n",
      "max      48497.000000    900.000000    355.740000  23945.560000    754.140000   \n",
      "\n",
      "           Delivery  \n",
      "count  54144.000000  \n",
      "mean      10.580648  \n",
      "std       19.690565  \n",
      "min        0.000000  \n",
      "25%        6.000000  \n",
      "50%        6.000000  \n",
      "75%        6.500000  \n",
      "max      521.360000  \n"
     ]
    }
   ],
   "source": [
    "# understanding marketing spent dataset\n",
    "print(\"Total number of rows:\",online.shape[0])\n",
    "print(\"Total number of colums:\",online.shape[1])\n",
    "print(\"\\n\\nList of columns:\", online.columns.tolist())\n",
    "print(\"\\n\\nMin Date:\", online['Date'].min())\n",
    "print(\"Max Date:\", online['Date'].max())\n",
    "print(\"\\n\\nDatatypes:\\n\",online.dtypes)\n",
    "print(\"\\n\\nUnique values:\\n\",online.nunique())\n",
    "print(\"\\n\\nMissing values:\\n\",online.isnull().sum())\n",
    "print(\"\\n\\nQuantitative analysis\\n\", online.describe())"
   ]
  },
  {
   "cell_type": "markdown",
   "metadata": {},
   "source": [
    "We have 5 missing values for Quantity. Lets fill the same later. \n",
    "\n",
    "Understanding marketing spent dataset"
   ]
  },
  {
   "cell_type": "code",
   "execution_count": 24,
   "metadata": {
    "scrolled": true
   },
   "outputs": [
    {
     "name": "stdout",
     "output_type": "stream",
     "text": [
      "Total number of rows: 365\n",
      "Total number of colums: 3\n",
      "\n",
      "\n",
      "List of columns: ['Date', 'Offline Spend', 'Online Spend']\n",
      "\n",
      "\n",
      "Min Date: 2017-01-01 00:00:00\n",
      "Max Date: 2017-12-31 00:00:00\n",
      "\n",
      "\n",
      "Datatypes:\n",
      " Date             datetime64[ns]\n",
      "Offline Spend             int64\n",
      "Online Spend            float64\n",
      "dtype: object\n",
      "\n",
      "\n",
      "Unique values:\n",
      " Date             365\n",
      "Offline Spend     11\n",
      "Online Spend     365\n",
      "dtype: int64\n",
      "\n",
      "\n",
      "Missing values:\n",
      " Date             0\n",
      "Offline Spend    0\n",
      "Online Spend     0\n",
      "dtype: int64\n",
      "\n",
      "\n",
      "Quantitative analysis\n",
      "        Offline Spend  Online Spend\n",
      "count     365.000000    365.000000\n",
      "mean     2843.561644   1905.880740\n",
      "std       952.292448    808.856853\n",
      "min       500.000000    320.250000\n",
      "25%      2500.000000   1258.600000\n",
      "50%      3000.000000   1881.940000\n",
      "75%      3500.000000   2435.120000\n",
      "max      5000.000000   4556.930000\n"
     ]
    }
   ],
   "source": [
    "# understanding marketing spent dataset\n",
    "print(\"Total number of rows:\",marketing_spent.shape[0])\n",
    "print(\"Total number of colums:\",marketing_spent.shape[1])\n",
    "print(\"\\n\\nList of columns:\", marketing_spent.columns.tolist())\n",
    "print(\"\\n\\nMin Date:\", marketing_spent['Date'].min())\n",
    "print(\"Max Date:\", marketing_spent['Date'].max())\n",
    "print(\"\\n\\nDatatypes:\\n\",marketing_spent.dtypes)\n",
    "print(\"\\n\\nUnique values:\\n\",marketing_spent.nunique())\n",
    "print(\"\\n\\nMissing values:\\n\",marketing_spent.isnull().sum())\n",
    "print(\"\\n\\nQuantitative analysis\\n\", marketing_spent.describe())"
   ]
  },
  {
   "cell_type": "markdown",
   "metadata": {},
   "source": [
    "# Combining 2 datasets"
   ]
  },
  {
   "cell_type": "code",
   "execution_count": 25,
   "metadata": {
    "scrolled": false
   },
   "outputs": [
    {
     "data": {
      "text/plain": [
       "(54144, 12)"
      ]
     },
     "execution_count": 25,
     "metadata": {},
     "output_type": "execute_result"
    }
   ],
   "source": [
    "df = pd.merge(\n",
    "    marketing_spent,\n",
    "    online,\n",
    "    left_on=['Date'],\n",
    "    right_on=['Date'])\n",
    "df.shape"
   ]
  },
  {
   "cell_type": "markdown",
   "metadata": {},
   "source": [
    "Lets rename columns and impute missing values"
   ]
  },
  {
   "cell_type": "code",
   "execution_count": 26,
   "metadata": {
    "scrolled": false
   },
   "outputs": [
    {
     "data": {
      "text/html": [
       "<div>\n",
       "<style scoped>\n",
       "    .dataframe tbody tr th:only-of-type {\n",
       "        vertical-align: middle;\n",
       "    }\n",
       "\n",
       "    .dataframe tbody tr th {\n",
       "        vertical-align: top;\n",
       "    }\n",
       "\n",
       "    .dataframe thead th {\n",
       "        text-align: right;\n",
       "    }\n",
       "</style>\n",
       "<table border=\"1\" class=\"dataframe\">\n",
       "  <thead>\n",
       "    <tr style=\"text-align: right;\">\n",
       "      <th></th>\n",
       "      <th>Date</th>\n",
       "      <th>Offline_Spend</th>\n",
       "      <th>Online_Spend</th>\n",
       "      <th>Transaction_ID</th>\n",
       "      <th>Product_SKU</th>\n",
       "      <th>Product</th>\n",
       "      <th>Product_Category_(Enhanced_E-commerce)</th>\n",
       "      <th>Quantity</th>\n",
       "      <th>Avg._Price</th>\n",
       "      <th>Revenue</th>\n",
       "      <th>Tax</th>\n",
       "      <th>Delivery</th>\n",
       "    </tr>\n",
       "  </thead>\n",
       "  <tbody>\n",
       "    <tr>\n",
       "      <th>0</th>\n",
       "      <td>2017-01-01</td>\n",
       "      <td>4500</td>\n",
       "      <td>2424.5</td>\n",
       "      <td>16736</td>\n",
       "      <td>GGOENEBJ079499</td>\n",
       "      <td>Nest® Learning Thermostat 3rd Gen-USA - Stainl...</td>\n",
       "      <td>Nest-USA</td>\n",
       "      <td>1.0</td>\n",
       "      <td>153.71</td>\n",
       "      <td>149.0</td>\n",
       "      <td>10.89</td>\n",
       "      <td>6.5</td>\n",
       "    </tr>\n",
       "    <tr>\n",
       "      <th>1</th>\n",
       "      <td>2017-01-01</td>\n",
       "      <td>4500</td>\n",
       "      <td>2424.5</td>\n",
       "      <td>16733</td>\n",
       "      <td>GGOENEBB078899</td>\n",
       "      <td>Nest® Cam Indoor Security Camera - USA</td>\n",
       "      <td>Nest-USA</td>\n",
       "      <td>1.0</td>\n",
       "      <td>122.77</td>\n",
       "      <td>119.0</td>\n",
       "      <td>11.00</td>\n",
       "      <td>6.5</td>\n",
       "    </tr>\n",
       "  </tbody>\n",
       "</table>\n",
       "</div>"
      ],
      "text/plain": [
       "        Date  Offline_Spend  Online_Spend  Transaction_ID     Product_SKU  \\\n",
       "0 2017-01-01           4500        2424.5           16736  GGOENEBJ079499   \n",
       "1 2017-01-01           4500        2424.5           16733  GGOENEBB078899   \n",
       "\n",
       "                                             Product  \\\n",
       "0  Nest® Learning Thermostat 3rd Gen-USA - Stainl...   \n",
       "1             Nest® Cam Indoor Security Camera - USA   \n",
       "\n",
       "  Product_Category_(Enhanced_E-commerce)  Quantity  Avg._Price  Revenue  \\\n",
       "0                               Nest-USA       1.0      153.71    149.0   \n",
       "1                               Nest-USA       1.0      122.77    119.0   \n",
       "\n",
       "     Tax  Delivery  \n",
       "0  10.89       6.5  \n",
       "1  11.00       6.5  "
      ]
     },
     "execution_count": 26,
     "metadata": {},
     "output_type": "execute_result"
    }
   ],
   "source": [
    "df.columns = df.columns.str.replace(' ', '_')\n",
    "df = df.fillna(axis=0, method='ffill')\n",
    "df.head(2)"
   ]
  },
  {
   "cell_type": "markdown",
   "metadata": {},
   "source": [
    "# Correlation matrix"
   ]
  },
  {
   "cell_type": "code",
   "execution_count": 27,
   "metadata": {},
   "outputs": [
    {
     "data": {
      "text/plain": [
       "<matplotlib.axes._subplots.AxesSubplot at 0x7fac81fda198>"
      ]
     },
     "execution_count": 27,
     "metadata": {},
     "output_type": "execute_result"
    },
    {
     "data": {
      "image/png": "[encoded data removed]",
      "text/plain": [
       "<Figure size 1080x720 with 2 Axes>"
      ]
     },
     "metadata": {
      "needs_background": "light"
     },
     "output_type": "display_data"
    }
   ],
   "source": [
    "import seaborn as sns\n",
    "df_correlation = df[['Date','Offline_Spend','Online_Spend','Transaction_ID','Product_SKU','Product','Product_Category_(Enhanced_E-commerce)',\n",
    " 'Avg._Price','Revenue','Tax', 'Quantity','Delivery']]\n",
    "\n",
    "upper_triangle = np.zeros_like(df_correlation.corr(), dtype = np.bool)\n",
    "upper_triangle[np.triu_indices_from(upper_triangle)] = True #make sure we don't show half of the other triangle\n",
    "f, ax = plt.subplots(figsize = (15, 10))\n",
    "sns.heatmap(df_correlation.corr(),ax=ax,mask=upper_triangle,annot=True, fmt='.2f',linewidths=0.5,cmap=sns.diverging_palette(10, 133, as_cmap=True))"
   ]
  },
  {
   "cell_type": "code",
   "execution_count": 28,
   "metadata": {
    "scrolled": false
   },
   "outputs": [
    {
     "name": "stdout",
     "output_type": "stream",
     "text": [
      "Shape: (54144, 2) \n",
      "\n",
      "<class 'pandas.core.frame.DataFrame'>\n",
      "Int64Index: 54144 entries, 0 to 54143\n",
      "Data columns (total 2 columns):\n",
      " #   Column    Non-Null Count  Dtype         \n",
      "---  ------    --------------  -----         \n",
      " 0   Date      54144 non-null  datetime64[ns]\n",
      " 1   Quantity  54144 non-null  float64       \n",
      "dtypes: datetime64[ns](1), float64(1)\n",
      "memory usage: 1.2 MB\n",
      "None \n",
      "\n",
      "Missing values:\n",
      " Date        0\n",
      "Quantity    0\n",
      "dtype: int64\n",
      "\n",
      "Description:\n",
      "            Quantity\n",
      "count  54144.000000\n",
      "mean       4.555648\n",
      "std       20.179663\n",
      "min        1.000000\n",
      "25%        1.000000\n",
      "50%        1.000000\n",
      "75%        2.000000\n",
      "max      900.000000\n"
     ]
    }
   ],
   "source": [
    "df1 = df.copy()\n",
    "df1 = df1[['Date', 'Quantity']]\n",
    "print(\"Shape:\",df1.shape,\"\\n\")\n",
    "print(df1.info(),\"\\n\")\n",
    "print(\"Missing values:\\n\",df1.isnull().sum())\n",
    "print(\"\\nDescription:\\n\", df1.describe())"
   ]
  },
  {
   "cell_type": "markdown",
   "metadata": {},
   "source": [
    "We group by \"Date\" and sum up the \"Quantities\""
   ]
  },
  {
   "cell_type": "code",
   "execution_count": 29,
   "metadata": {
    "scrolled": false
   },
   "outputs": [
    {
     "data": {
      "text/html": [
       "<div>\n",
       "<style scoped>\n",
       "    .dataframe tbody tr th:only-of-type {\n",
       "        vertical-align: middle;\n",
       "    }\n",
       "\n",
       "    .dataframe tbody tr th {\n",
       "        vertical-align: top;\n",
       "    }\n",
       "\n",
       "    .dataframe thead th {\n",
       "        text-align: right;\n",
       "    }\n",
       "</style>\n",
       "<table border=\"1\" class=\"dataframe\">\n",
       "  <thead>\n",
       "    <tr style=\"text-align: right;\">\n",
       "      <th></th>\n",
       "      <th>Date</th>\n",
       "      <th>Quantity</th>\n",
       "    </tr>\n",
       "  </thead>\n",
       "  <tbody>\n",
       "    <tr>\n",
       "      <th>0</th>\n",
       "      <td>2017-01-01</td>\n",
       "      <td>399.0</td>\n",
       "    </tr>\n",
       "    <tr>\n",
       "      <th>1</th>\n",
       "      <td>2017-01-02</td>\n",
       "      <td>265.0</td>\n",
       "    </tr>\n",
       "    <tr>\n",
       "      <th>2</th>\n",
       "      <td>2017-01-03</td>\n",
       "      <td>823.0</td>\n",
       "    </tr>\n",
       "    <tr>\n",
       "      <th>3</th>\n",
       "      <td>2017-01-04</td>\n",
       "      <td>621.0</td>\n",
       "    </tr>\n",
       "    <tr>\n",
       "      <th>4</th>\n",
       "      <td>2017-01-05</td>\n",
       "      <td>2683.0</td>\n",
       "    </tr>\n",
       "  </tbody>\n",
       "</table>\n",
       "</div>"
      ],
      "text/plain": [
       "        Date  Quantity\n",
       "0 2017-01-01     399.0\n",
       "1 2017-01-02     265.0\n",
       "2 2017-01-03     823.0\n",
       "3 2017-01-04     621.0\n",
       "4 2017-01-05    2683.0"
      ]
     },
     "execution_count": 29,
     "metadata": {},
     "output_type": "execute_result"
    }
   ],
   "source": [
    "df1 = df1.groupby(['Date'])['Quantity'].sum().reset_index()\n",
    "df1.head(5)"
   ]
  },
  {
   "cell_type": "markdown",
   "metadata": {},
   "source": [
    "Let us integrate national holidays from UK in out dataset and will have a bad impact on our forcasted values. Let us first filter it out."
   ]
  },
  {
   "cell_type": "code",
   "execution_count": 30,
   "metadata": {
    "scrolled": false
   },
   "outputs": [
    {
     "data": {
      "text/html": [
       "<div>\n",
       "<style scoped>\n",
       "    .dataframe tbody tr th:only-of-type {\n",
       "        vertical-align: middle;\n",
       "    }\n",
       "\n",
       "    .dataframe tbody tr th {\n",
       "        vertical-align: top;\n",
       "    }\n",
       "\n",
       "    .dataframe thead th {\n",
       "        text-align: right;\n",
       "    }\n",
       "</style>\n",
       "<table border=\"1\" class=\"dataframe\">\n",
       "  <thead>\n",
       "    <tr style=\"text-align: right;\">\n",
       "      <th></th>\n",
       "      <th>Holiday Date</th>\n",
       "    </tr>\n",
       "  </thead>\n",
       "  <tbody>\n",
       "    <tr>\n",
       "      <th>0</th>\n",
       "      <td>2017-01-01</td>\n",
       "    </tr>\n",
       "    <tr>\n",
       "      <th>1</th>\n",
       "      <td>2017-01-02</td>\n",
       "    </tr>\n",
       "    <tr>\n",
       "      <th>2</th>\n",
       "      <td>2017-01-03</td>\n",
       "    </tr>\n",
       "    <tr>\n",
       "      <th>3</th>\n",
       "      <td>2017-03-17</td>\n",
       "    </tr>\n",
       "    <tr>\n",
       "      <th>4</th>\n",
       "      <td>2017-04-14</td>\n",
       "    </tr>\n",
       "  </tbody>\n",
       "</table>\n",
       "</div>"
      ],
      "text/plain": [
       "  Holiday Date\n",
       "0   2017-01-01\n",
       "1   2017-01-02\n",
       "2   2017-01-03\n",
       "3   2017-03-17\n",
       "4   2017-04-14"
      ]
     },
     "execution_count": 30,
     "metadata": {},
     "output_type": "execute_result"
    }
   ],
   "source": [
    "# holidays\n",
    "uk_holidays = []\n",
    "for date in holidays.UnitedKingdom(years = 2017).items():\n",
    "    uk_holidays.append(str(date[0]))\n",
    "\n",
    "holidays = pd.DataFrame(uk_holidays, columns=['Holiday Date']) \n",
    "holidays.head()"
   ]
  },
  {
   "cell_type": "code",
   "execution_count": 31,
   "metadata": {
    "scrolled": false
   },
   "outputs": [
    {
     "data": {
      "text/html": [
       "<div>\n",
       "<style scoped>\n",
       "    .dataframe tbody tr th:only-of-type {\n",
       "        vertical-align: middle;\n",
       "    }\n",
       "\n",
       "    .dataframe tbody tr th {\n",
       "        vertical-align: top;\n",
       "    }\n",
       "\n",
       "    .dataframe thead th {\n",
       "        text-align: right;\n",
       "    }\n",
       "</style>\n",
       "<table border=\"1\" class=\"dataframe\">\n",
       "  <thead>\n",
       "    <tr style=\"text-align: right;\">\n",
       "      <th></th>\n",
       "      <th>Date</th>\n",
       "      <th>Quantity</th>\n",
       "      <th>Holidays</th>\n",
       "    </tr>\n",
       "  </thead>\n",
       "  <tbody>\n",
       "    <tr>\n",
       "      <th>0</th>\n",
       "      <td>2017-01-01</td>\n",
       "      <td>399.0</td>\n",
       "      <td>True</td>\n",
       "    </tr>\n",
       "    <tr>\n",
       "      <th>1</th>\n",
       "      <td>2017-01-02</td>\n",
       "      <td>265.0</td>\n",
       "      <td>True</td>\n",
       "    </tr>\n",
       "    <tr>\n",
       "      <th>2</th>\n",
       "      <td>2017-01-03</td>\n",
       "      <td>823.0</td>\n",
       "      <td>True</td>\n",
       "    </tr>\n",
       "    <tr>\n",
       "      <th>3</th>\n",
       "      <td>2017-01-04</td>\n",
       "      <td>621.0</td>\n",
       "      <td>False</td>\n",
       "    </tr>\n",
       "    <tr>\n",
       "      <th>4</th>\n",
       "      <td>2017-01-05</td>\n",
       "      <td>2683.0</td>\n",
       "      <td>False</td>\n",
       "    </tr>\n",
       "  </tbody>\n",
       "</table>\n",
       "</div>"
      ],
      "text/plain": [
       "        Date  Quantity  Holidays\n",
       "0 2017-01-01     399.0      True\n",
       "1 2017-01-02     265.0      True\n",
       "2 2017-01-03     823.0      True\n",
       "3 2017-01-04     621.0     False\n",
       "4 2017-01-05    2683.0     False"
      ]
     },
     "execution_count": 31,
     "metadata": {},
     "output_type": "execute_result"
    }
   ],
   "source": [
    "df1['Holidays'] = df1['Date'].isin(uk_holidays)\n",
    "df1.head()"
   ]
  },
  {
   "cell_type": "code",
   "execution_count": 32,
   "metadata": {
    "scrolled": false
   },
   "outputs": [
    {
     "data": {
      "text/html": [
       "<div>\n",
       "<style scoped>\n",
       "    .dataframe tbody tr th:only-of-type {\n",
       "        vertical-align: middle;\n",
       "    }\n",
       "\n",
       "    .dataframe tbody tr th {\n",
       "        vertical-align: top;\n",
       "    }\n",
       "\n",
       "    .dataframe thead th {\n",
       "        text-align: right;\n",
       "    }\n",
       "</style>\n",
       "<table border=\"1\" class=\"dataframe\">\n",
       "  <thead>\n",
       "    <tr style=\"text-align: right;\">\n",
       "      <th></th>\n",
       "      <th>Date</th>\n",
       "      <th>Quantity</th>\n",
       "      <th>Holidays</th>\n",
       "    </tr>\n",
       "  </thead>\n",
       "  <tbody>\n",
       "    <tr>\n",
       "      <th>3</th>\n",
       "      <td>2017-01-04</td>\n",
       "      <td>621.0</td>\n",
       "      <td>False</td>\n",
       "    </tr>\n",
       "    <tr>\n",
       "      <th>4</th>\n",
       "      <td>2017-01-05</td>\n",
       "      <td>2683.0</td>\n",
       "      <td>False</td>\n",
       "    </tr>\n",
       "    <tr>\n",
       "      <th>5</th>\n",
       "      <td>2017-01-06</td>\n",
       "      <td>1324.0</td>\n",
       "      <td>False</td>\n",
       "    </tr>\n",
       "    <tr>\n",
       "      <th>6</th>\n",
       "      <td>2017-01-07</td>\n",
       "      <td>105.0</td>\n",
       "      <td>False</td>\n",
       "    </tr>\n",
       "    <tr>\n",
       "      <th>7</th>\n",
       "      <td>2017-01-08</td>\n",
       "      <td>384.0</td>\n",
       "      <td>False</td>\n",
       "    </tr>\n",
       "  </tbody>\n",
       "</table>\n",
       "</div>"
      ],
      "text/plain": [
       "        Date  Quantity  Holidays\n",
       "3 2017-01-04     621.0     False\n",
       "4 2017-01-05    2683.0     False\n",
       "5 2017-01-06    1324.0     False\n",
       "6 2017-01-07     105.0     False\n",
       "7 2017-01-08     384.0     False"
      ]
     },
     "execution_count": 32,
     "metadata": {},
     "output_type": "execute_result"
    }
   ],
   "source": [
    "# removing the holidays\n",
    "df1 = df1[df1[\"Holidays\"]==False]\n",
    "df1.head()"
   ]
  },
  {
   "cell_type": "code",
   "execution_count": 33,
   "metadata": {
    "scrolled": false
   },
   "outputs": [
    {
     "data": {
      "text/html": [
       "<div>\n",
       "<style scoped>\n",
       "    .dataframe tbody tr th:only-of-type {\n",
       "        vertical-align: middle;\n",
       "    }\n",
       "\n",
       "    .dataframe tbody tr th {\n",
       "        vertical-align: top;\n",
       "    }\n",
       "\n",
       "    .dataframe thead th {\n",
       "        text-align: right;\n",
       "    }\n",
       "</style>\n",
       "<table border=\"1\" class=\"dataframe\">\n",
       "  <thead>\n",
       "    <tr style=\"text-align: right;\">\n",
       "      <th></th>\n",
       "      <th>Date</th>\n",
       "      <th>Quantity</th>\n",
       "    </tr>\n",
       "  </thead>\n",
       "  <tbody>\n",
       "    <tr>\n",
       "      <th>3</th>\n",
       "      <td>2017-01-04</td>\n",
       "      <td>621.0</td>\n",
       "    </tr>\n",
       "    <tr>\n",
       "      <th>4</th>\n",
       "      <td>2017-01-05</td>\n",
       "      <td>2683.0</td>\n",
       "    </tr>\n",
       "    <tr>\n",
       "      <th>5</th>\n",
       "      <td>2017-01-06</td>\n",
       "      <td>1324.0</td>\n",
       "    </tr>\n",
       "    <tr>\n",
       "      <th>6</th>\n",
       "      <td>2017-01-07</td>\n",
       "      <td>105.0</td>\n",
       "    </tr>\n",
       "    <tr>\n",
       "      <th>7</th>\n",
       "      <td>2017-01-08</td>\n",
       "      <td>384.0</td>\n",
       "    </tr>\n",
       "  </tbody>\n",
       "</table>\n",
       "</div>"
      ],
      "text/plain": [
       "        Date  Quantity\n",
       "3 2017-01-04     621.0\n",
       "4 2017-01-05    2683.0\n",
       "5 2017-01-06    1324.0\n",
       "6 2017-01-07     105.0\n",
       "7 2017-01-08     384.0"
      ]
     },
     "execution_count": 33,
     "metadata": {},
     "output_type": "execute_result"
    }
   ],
   "source": [
    "df2 = df1[[\"Date\",\"Quantity\"]]\n",
    "df2.head()"
   ]
  },
  {
   "cell_type": "code",
   "execution_count": 34,
   "metadata": {
    "scrolled": false
   },
   "outputs": [
    {
     "data": {
      "text/html": [
       "<div>\n",
       "<style scoped>\n",
       "    .dataframe tbody tr th:only-of-type {\n",
       "        vertical-align: middle;\n",
       "    }\n",
       "\n",
       "    .dataframe tbody tr th {\n",
       "        vertical-align: top;\n",
       "    }\n",
       "\n",
       "    .dataframe thead th {\n",
       "        text-align: right;\n",
       "    }\n",
       "</style>\n",
       "<table border=\"1\" class=\"dataframe\">\n",
       "  <thead>\n",
       "    <tr style=\"text-align: right;\">\n",
       "      <th></th>\n",
       "      <th>Date</th>\n",
       "      <th>Year</th>\n",
       "      <th>Week</th>\n",
       "      <th>Day</th>\n",
       "      <th>Weekday</th>\n",
       "      <th>Quantity</th>\n",
       "    </tr>\n",
       "  </thead>\n",
       "  <tbody>\n",
       "    <tr>\n",
       "      <th>0</th>\n",
       "      <td>2018-01-01</td>\n",
       "      <td>2018</td>\n",
       "      <td>1</td>\n",
       "      <td>1</td>\n",
       "      <td>0</td>\n",
       "      <td></td>\n",
       "    </tr>\n",
       "    <tr>\n",
       "      <th>1</th>\n",
       "      <td>2018-01-02</td>\n",
       "      <td>2018</td>\n",
       "      <td>1</td>\n",
       "      <td>2</td>\n",
       "      <td>1</td>\n",
       "      <td></td>\n",
       "    </tr>\n",
       "    <tr>\n",
       "      <th>2</th>\n",
       "      <td>2018-01-03</td>\n",
       "      <td>2018</td>\n",
       "      <td>1</td>\n",
       "      <td>3</td>\n",
       "      <td>2</td>\n",
       "      <td></td>\n",
       "    </tr>\n",
       "    <tr>\n",
       "      <th>3</th>\n",
       "      <td>2018-01-04</td>\n",
       "      <td>2018</td>\n",
       "      <td>1</td>\n",
       "      <td>4</td>\n",
       "      <td>3</td>\n",
       "      <td></td>\n",
       "    </tr>\n",
       "    <tr>\n",
       "      <th>4</th>\n",
       "      <td>2018-01-05</td>\n",
       "      <td>2018</td>\n",
       "      <td>1</td>\n",
       "      <td>5</td>\n",
       "      <td>4</td>\n",
       "      <td></td>\n",
       "    </tr>\n",
       "    <tr>\n",
       "      <th>5</th>\n",
       "      <td>2018-01-06</td>\n",
       "      <td>2018</td>\n",
       "      <td>1</td>\n",
       "      <td>6</td>\n",
       "      <td>5</td>\n",
       "      <td></td>\n",
       "    </tr>\n",
       "    <tr>\n",
       "      <th>6</th>\n",
       "      <td>2018-01-07</td>\n",
       "      <td>2018</td>\n",
       "      <td>1</td>\n",
       "      <td>7</td>\n",
       "      <td>6</td>\n",
       "      <td></td>\n",
       "    </tr>\n",
       "    <tr>\n",
       "      <th>7</th>\n",
       "      <td>2018-01-08</td>\n",
       "      <td>2018</td>\n",
       "      <td>2</td>\n",
       "      <td>8</td>\n",
       "      <td>0</td>\n",
       "      <td></td>\n",
       "    </tr>\n",
       "  </tbody>\n",
       "</table>\n",
       "</div>"
      ],
      "text/plain": [
       "        Date  Year  Week  Day  Weekday Quantity\n",
       "0 2018-01-01  2018     1    1        0         \n",
       "1 2018-01-02  2018     1    2        1         \n",
       "2 2018-01-03  2018     1    3        2         \n",
       "3 2018-01-04  2018     1    4        3         \n",
       "4 2018-01-05  2018     1    5        4         \n",
       "5 2018-01-06  2018     1    6        5         \n",
       "6 2018-01-07  2018     1    7        6         \n",
       "7 2018-01-08  2018     2    8        0         "
      ]
     },
     "execution_count": 34,
     "metadata": {},
     "output_type": "execute_result"
    }
   ],
   "source": [
    "# creating testing data for 2018 Jan month\n",
    "date_2018 = \"2018-01-01\"\n",
    "# index = pd.date_range(date_2018, periods=30, freq='D')\n",
    "#creating Quantity column\n",
    "# columns = ['Quantity']\n",
    "test = pd.DataFrame()\n",
    "test['Date'] = pd.date_range(start=date_2018, periods=30, freq='D')\n",
    "# # extracting more features from the train dataset\n",
    "test['Year'] = pd.to_datetime(test['Date']).dt.year\n",
    "test['Week'] = pd.to_datetime(test['Date']).dt.week\n",
    "test['Day'] = pd.to_datetime(test['Date']).dt.day\n",
    "test['Weekday'] = pd.to_datetime(test['Date']).dt.dayofweek\n",
    "\n",
    "test[\"Quantity\"] = \"\"\n",
    "test.head(8)"
   ]
  },
  {
   "cell_type": "code",
   "execution_count": 35,
   "metadata": {
    "scrolled": false
   },
   "outputs": [
    {
     "data": {
      "text/html": [
       "<div>\n",
       "<style scoped>\n",
       "    .dataframe tbody tr th:only-of-type {\n",
       "        vertical-align: middle;\n",
       "    }\n",
       "\n",
       "    .dataframe tbody tr th {\n",
       "        vertical-align: top;\n",
       "    }\n",
       "\n",
       "    .dataframe thead th {\n",
       "        text-align: right;\n",
       "    }\n",
       "</style>\n",
       "<table border=\"1\" class=\"dataframe\">\n",
       "  <thead>\n",
       "    <tr style=\"text-align: right;\">\n",
       "      <th></th>\n",
       "      <th>Date</th>\n",
       "      <th>Quantity</th>\n",
       "      <th>Year</th>\n",
       "      <th>Week</th>\n",
       "      <th>Day</th>\n",
       "      <th>Weekday</th>\n",
       "    </tr>\n",
       "  </thead>\n",
       "  <tbody>\n",
       "    <tr>\n",
       "      <th>3</th>\n",
       "      <td>2017-01-04</td>\n",
       "      <td>621.0</td>\n",
       "      <td>2017</td>\n",
       "      <td>1</td>\n",
       "      <td>4</td>\n",
       "      <td>2</td>\n",
       "    </tr>\n",
       "    <tr>\n",
       "      <th>4</th>\n",
       "      <td>2017-01-05</td>\n",
       "      <td>2683.0</td>\n",
       "      <td>2017</td>\n",
       "      <td>1</td>\n",
       "      <td>5</td>\n",
       "      <td>3</td>\n",
       "    </tr>\n",
       "    <tr>\n",
       "      <th>5</th>\n",
       "      <td>2017-01-06</td>\n",
       "      <td>1324.0</td>\n",
       "      <td>2017</td>\n",
       "      <td>1</td>\n",
       "      <td>6</td>\n",
       "      <td>4</td>\n",
       "    </tr>\n",
       "    <tr>\n",
       "      <th>6</th>\n",
       "      <td>2017-01-07</td>\n",
       "      <td>105.0</td>\n",
       "      <td>2017</td>\n",
       "      <td>1</td>\n",
       "      <td>7</td>\n",
       "      <td>5</td>\n",
       "    </tr>\n",
       "    <tr>\n",
       "      <th>7</th>\n",
       "      <td>2017-01-08</td>\n",
       "      <td>384.0</td>\n",
       "      <td>2017</td>\n",
       "      <td>1</td>\n",
       "      <td>8</td>\n",
       "      <td>6</td>\n",
       "    </tr>\n",
       "    <tr>\n",
       "      <th>8</th>\n",
       "      <td>2017-01-09</td>\n",
       "      <td>1011.0</td>\n",
       "      <td>2017</td>\n",
       "      <td>2</td>\n",
       "      <td>9</td>\n",
       "      <td>0</td>\n",
       "    </tr>\n",
       "    <tr>\n",
       "      <th>9</th>\n",
       "      <td>2017-01-10</td>\n",
       "      <td>1121.0</td>\n",
       "      <td>2017</td>\n",
       "      <td>2</td>\n",
       "      <td>10</td>\n",
       "      <td>1</td>\n",
       "    </tr>\n",
       "    <tr>\n",
       "      <th>10</th>\n",
       "      <td>2017-01-11</td>\n",
       "      <td>523.0</td>\n",
       "      <td>2017</td>\n",
       "      <td>2</td>\n",
       "      <td>11</td>\n",
       "      <td>2</td>\n",
       "    </tr>\n",
       "  </tbody>\n",
       "</table>\n",
       "</div>"
      ],
      "text/plain": [
       "         Date  Quantity  Year  Week  Day  Weekday\n",
       "3  2017-01-04     621.0  2017     1    4        2\n",
       "4  2017-01-05    2683.0  2017     1    5        3\n",
       "5  2017-01-06    1324.0  2017     1    6        4\n",
       "6  2017-01-07     105.0  2017     1    7        5\n",
       "7  2017-01-08     384.0  2017     1    8        6\n",
       "8  2017-01-09    1011.0  2017     2    9        0\n",
       "9  2017-01-10    1121.0  2017     2   10        1\n",
       "10 2017-01-11     523.0  2017     2   11        2"
      ]
     },
     "execution_count": 35,
     "metadata": {},
     "output_type": "execute_result"
    }
   ],
   "source": [
    "# extracting more features from the train dataset\n",
    "df2['Year'] = pd.to_datetime(df2['Date']).dt.year\n",
    "df2['Week'] = pd.to_datetime(df2['Date']).dt.week\n",
    "df2['Day'] = pd.to_datetime(df2['Date']).dt.day\n",
    "df2['Weekday'] = pd.to_datetime(df2['Date']).dt.dayofweek\n",
    "df2.head(8)"
   ]
  },
  {
   "cell_type": "markdown",
   "metadata": {},
   "source": [
    "Before running the model lets do EDA"
   ]
  },
  {
   "cell_type": "code",
   "execution_count": 36,
   "metadata": {
    "scrolled": false
   },
   "outputs": [
    {
     "data": {
      "text/html": [
       "<div>\n",
       "<style scoped>\n",
       "    .dataframe tbody tr th:only-of-type {\n",
       "        vertical-align: middle;\n",
       "    }\n",
       "\n",
       "    .dataframe tbody tr th {\n",
       "        vertical-align: top;\n",
       "    }\n",
       "\n",
       "    .dataframe thead th {\n",
       "        text-align: right;\n",
       "    }\n",
       "</style>\n",
       "<table border=\"1\" class=\"dataframe\">\n",
       "  <thead>\n",
       "    <tr style=\"text-align: right;\">\n",
       "      <th></th>\n",
       "      <th>Quantity</th>\n",
       "      <th>Year</th>\n",
       "      <th>Week</th>\n",
       "      <th>Day</th>\n",
       "      <th>Weekday</th>\n",
       "    </tr>\n",
       "  </thead>\n",
       "  <tbody>\n",
       "    <tr>\n",
       "      <th>count</th>\n",
       "      <td>351.000000</td>\n",
       "      <td>351.0</td>\n",
       "      <td>351.000000</td>\n",
       "      <td>351.000000</td>\n",
       "      <td>351.000000</td>\n",
       "    </tr>\n",
       "    <tr>\n",
       "      <th>mean</th>\n",
       "      <td>679.686610</td>\n",
       "      <td>2017.0</td>\n",
       "      <td>26.538462</td>\n",
       "      <td>15.743590</td>\n",
       "      <td>3.068376</td>\n",
       "    </tr>\n",
       "    <tr>\n",
       "      <th>std</th>\n",
       "      <td>597.398861</td>\n",
       "      <td>0.0</td>\n",
       "      <td>14.952041</td>\n",
       "      <td>8.724174</td>\n",
       "      <td>1.985921</td>\n",
       "    </tr>\n",
       "    <tr>\n",
       "      <th>min</th>\n",
       "      <td>38.000000</td>\n",
       "      <td>2017.0</td>\n",
       "      <td>1.000000</td>\n",
       "      <td>1.000000</td>\n",
       "      <td>0.000000</td>\n",
       "    </tr>\n",
       "    <tr>\n",
       "      <th>25%</th>\n",
       "      <td>280.000000</td>\n",
       "      <td>2017.0</td>\n",
       "      <td>13.500000</td>\n",
       "      <td>8.000000</td>\n",
       "      <td>1.000000</td>\n",
       "    </tr>\n",
       "    <tr>\n",
       "      <th>50%</th>\n",
       "      <td>576.000000</td>\n",
       "      <td>2017.0</td>\n",
       "      <td>27.000000</td>\n",
       "      <td>16.000000</td>\n",
       "      <td>3.000000</td>\n",
       "    </tr>\n",
       "    <tr>\n",
       "      <th>75%</th>\n",
       "      <td>892.500000</td>\n",
       "      <td>2017.0</td>\n",
       "      <td>39.500000</td>\n",
       "      <td>23.000000</td>\n",
       "      <td>5.000000</td>\n",
       "    </tr>\n",
       "    <tr>\n",
       "      <th>max</th>\n",
       "      <td>5987.000000</td>\n",
       "      <td>2017.0</td>\n",
       "      <td>52.000000</td>\n",
       "      <td>31.000000</td>\n",
       "      <td>6.000000</td>\n",
       "    </tr>\n",
       "  </tbody>\n",
       "</table>\n",
       "</div>"
      ],
      "text/plain": [
       "          Quantity    Year        Week         Day     Weekday\n",
       "count   351.000000   351.0  351.000000  351.000000  351.000000\n",
       "mean    679.686610  2017.0   26.538462   15.743590    3.068376\n",
       "std     597.398861     0.0   14.952041    8.724174    1.985921\n",
       "min      38.000000  2017.0    1.000000    1.000000    0.000000\n",
       "25%     280.000000  2017.0   13.500000    8.000000    1.000000\n",
       "50%     576.000000  2017.0   27.000000   16.000000    3.000000\n",
       "75%     892.500000  2017.0   39.500000   23.000000    5.000000\n",
       "max    5987.000000  2017.0   52.000000   31.000000    6.000000"
      ]
     },
     "execution_count": 36,
     "metadata": {},
     "output_type": "execute_result"
    }
   ],
   "source": [
    "df2.describe()\n"
   ]
  },
  {
   "cell_type": "code",
   "execution_count": 37,
   "metadata": {
    "scrolled": true
   },
   "outputs": [
    {
     "data": {
      "text/plain": [
       "<matplotlib.axes._subplots.AxesSubplot at 0x7fac81ba8eb8>"
      ]
     },
     "execution_count": 37,
     "metadata": {},
     "output_type": "execute_result"
    },
    {
     "data": {
      "image/png": "[encoded data removed]",
      "text/plain": [
       "<Figure size 432x288 with 1 Axes>"
      ]
     },
     "metadata": {
      "needs_background": "light"
     },
     "output_type": "display_data"
    }
   ],
   "source": [
    "sns.boxplot(x=df2['Quantity'])"
   ]
  },
  {
   "cell_type": "markdown",
   "metadata": {},
   "source": [
    "Lets plot some weekly"
   ]
  },
  {
   "cell_type": "code",
   "execution_count": 38,
   "metadata": {
    "scrolled": true
   },
   "outputs": [
    {
     "data": {
      "text/plain": [
       "<matplotlib.axes._subplots.AxesSubplot at 0x7fac81b172e8>"
      ]
     },
     "execution_count": 38,
     "metadata": {},
     "output_type": "execute_result"
    },
    {
     "data": {
      "image/png": "[encoded data removed]",
      "text/plain": [
       "<Figure size 432x288 with 1 Axes>"
      ]
     },
     "metadata": {
      "needs_background": "light"
     },
     "output_type": "display_data"
    }
   ],
   "source": [
    "# weekly trend\n",
    "sns.lineplot(df2['Week'], df2['Quantity'])"
   ]
  },
  {
   "cell_type": "markdown",
   "metadata": {},
   "source": [
    "# Removing outliers"
   ]
  },
  {
   "cell_type": "code",
   "execution_count": 39,
   "metadata": {
    "scrolled": true
   },
   "outputs": [
    {
     "data": {
      "text/html": [
       "<div>\n",
       "<style scoped>\n",
       "    .dataframe tbody tr th:only-of-type {\n",
       "        vertical-align: middle;\n",
       "    }\n",
       "\n",
       "    .dataframe tbody tr th {\n",
       "        vertical-align: top;\n",
       "    }\n",
       "\n",
       "    .dataframe thead th {\n",
       "        text-align: right;\n",
       "    }\n",
       "</style>\n",
       "<table border=\"1\" class=\"dataframe\">\n",
       "  <thead>\n",
       "    <tr style=\"text-align: right;\">\n",
       "      <th></th>\n",
       "      <th>Quantity</th>\n",
       "      <th>Year</th>\n",
       "      <th>Week</th>\n",
       "      <th>Day</th>\n",
       "      <th>Weekday</th>\n",
       "    </tr>\n",
       "  </thead>\n",
       "  <tbody>\n",
       "    <tr>\n",
       "      <th>count</th>\n",
       "      <td>349.000000</td>\n",
       "      <td>349.0</td>\n",
       "      <td>349.000000</td>\n",
       "      <td>349.000000</td>\n",
       "      <td>349.000000</td>\n",
       "    </tr>\n",
       "    <tr>\n",
       "      <th>mean</th>\n",
       "      <td>655.028653</td>\n",
       "      <td>2017.0</td>\n",
       "      <td>26.561605</td>\n",
       "      <td>15.813754</td>\n",
       "      <td>3.074499</td>\n",
       "    </tr>\n",
       "    <tr>\n",
       "      <th>std</th>\n",
       "      <td>496.109130</td>\n",
       "      <td>0.0</td>\n",
       "      <td>14.977946</td>\n",
       "      <td>8.698807</td>\n",
       "      <td>1.989963</td>\n",
       "    </tr>\n",
       "    <tr>\n",
       "      <th>min</th>\n",
       "      <td>38.000000</td>\n",
       "      <td>2017.0</td>\n",
       "      <td>1.000000</td>\n",
       "      <td>1.000000</td>\n",
       "      <td>0.000000</td>\n",
       "    </tr>\n",
       "    <tr>\n",
       "      <th>25%</th>\n",
       "      <td>280.000000</td>\n",
       "      <td>2017.0</td>\n",
       "      <td>13.000000</td>\n",
       "      <td>8.000000</td>\n",
       "      <td>1.000000</td>\n",
       "    </tr>\n",
       "    <tr>\n",
       "      <th>50%</th>\n",
       "      <td>574.000000</td>\n",
       "      <td>2017.0</td>\n",
       "      <td>27.000000</td>\n",
       "      <td>16.000000</td>\n",
       "      <td>3.000000</td>\n",
       "    </tr>\n",
       "    <tr>\n",
       "      <th>75%</th>\n",
       "      <td>889.000000</td>\n",
       "      <td>2017.0</td>\n",
       "      <td>40.000000</td>\n",
       "      <td>23.000000</td>\n",
       "      <td>5.000000</td>\n",
       "    </tr>\n",
       "    <tr>\n",
       "      <th>max</th>\n",
       "      <td>3240.000000</td>\n",
       "      <td>2017.0</td>\n",
       "      <td>52.000000</td>\n",
       "      <td>31.000000</td>\n",
       "      <td>6.000000</td>\n",
       "    </tr>\n",
       "  </tbody>\n",
       "</table>\n",
       "</div>"
      ],
      "text/plain": [
       "          Quantity    Year        Week         Day     Weekday\n",
       "count   349.000000   349.0  349.000000  349.000000  349.000000\n",
       "mean    655.028653  2017.0   26.561605   15.813754    3.074499\n",
       "std     496.109130     0.0   14.977946    8.698807    1.989963\n",
       "min      38.000000  2017.0    1.000000    1.000000    0.000000\n",
       "25%     280.000000  2017.0   13.000000    8.000000    1.000000\n",
       "50%     574.000000  2017.0   27.000000   16.000000    3.000000\n",
       "75%     889.000000  2017.0   40.000000   23.000000    5.000000\n",
       "max    3240.000000  2017.0   52.000000   31.000000    6.000000"
      ]
     },
     "execution_count": 39,
     "metadata": {},
     "output_type": "execute_result"
    }
   ],
   "source": [
    "# removing outliers\n",
    "df2 = df2[df2['Quantity']<3500]\n",
    "df2.describe()\n"
   ]
  },
  {
   "cell_type": "code",
   "execution_count": 40,
   "metadata": {},
   "outputs": [
    {
     "data": {
      "text/plain": [
       "<matplotlib.axes._subplots.AxesSubplot at 0x7fac81a94d68>"
      ]
     },
     "execution_count": 40,
     "metadata": {},
     "output_type": "execute_result"
    },
    {
     "data": {
      "image/png": "[encoded data removed]",
      "text/plain": [
       "<Figure size 432x288 with 1 Axes>"
      ]
     },
     "metadata": {
      "needs_background": "light"
     },
     "output_type": "display_data"
    }
   ],
   "source": [
    "sns.boxplot(x=df2['Quantity'])"
   ]
  },
  {
   "cell_type": "markdown",
   "metadata": {},
   "source": [
    "# Running the Random-Forest-Regressor\n",
    "Before running the Random forest regressor let us evaluate wheather there are better algorithms for the dataset"
   ]
  },
  {
   "cell_type": "code",
   "execution_count": 41,
   "metadata": {},
   "outputs": [
    {
     "data": {
      "text/html": [
       "<div>\n",
       "<style scoped>\n",
       "    .dataframe tbody tr th:only-of-type {\n",
       "        vertical-align: middle;\n",
       "    }\n",
       "\n",
       "    .dataframe tbody tr th {\n",
       "        vertical-align: top;\n",
       "    }\n",
       "\n",
       "    .dataframe thead th {\n",
       "        text-align: right;\n",
       "    }\n",
       "</style>\n",
       "<table border=\"1\" class=\"dataframe\">\n",
       "  <thead>\n",
       "    <tr style=\"text-align: right;\">\n",
       "      <th></th>\n",
       "      <th>Date</th>\n",
       "      <th>Quantity</th>\n",
       "      <th>Year</th>\n",
       "      <th>Week</th>\n",
       "      <th>Day</th>\n",
       "      <th>Weekday</th>\n",
       "    </tr>\n",
       "  </thead>\n",
       "  <tbody>\n",
       "    <tr>\n",
       "      <th>3</th>\n",
       "      <td>2017-01-04</td>\n",
       "      <td>621.0</td>\n",
       "      <td>2017</td>\n",
       "      <td>1</td>\n",
       "      <td>4</td>\n",
       "      <td>2</td>\n",
       "    </tr>\n",
       "    <tr>\n",
       "      <th>4</th>\n",
       "      <td>2017-01-05</td>\n",
       "      <td>2683.0</td>\n",
       "      <td>2017</td>\n",
       "      <td>1</td>\n",
       "      <td>5</td>\n",
       "      <td>3</td>\n",
       "    </tr>\n",
       "    <tr>\n",
       "      <th>5</th>\n",
       "      <td>2017-01-06</td>\n",
       "      <td>1324.0</td>\n",
       "      <td>2017</td>\n",
       "      <td>1</td>\n",
       "      <td>6</td>\n",
       "      <td>4</td>\n",
       "    </tr>\n",
       "    <tr>\n",
       "      <th>6</th>\n",
       "      <td>2017-01-07</td>\n",
       "      <td>105.0</td>\n",
       "      <td>2017</td>\n",
       "      <td>1</td>\n",
       "      <td>7</td>\n",
       "      <td>5</td>\n",
       "    </tr>\n",
       "    <tr>\n",
       "      <th>7</th>\n",
       "      <td>2017-01-08</td>\n",
       "      <td>384.0</td>\n",
       "      <td>2017</td>\n",
       "      <td>1</td>\n",
       "      <td>8</td>\n",
       "      <td>6</td>\n",
       "    </tr>\n",
       "    <tr>\n",
       "      <th>...</th>\n",
       "      <td>...</td>\n",
       "      <td>...</td>\n",
       "      <td>...</td>\n",
       "      <td>...</td>\n",
       "      <td>...</td>\n",
       "      <td>...</td>\n",
       "    </tr>\n",
       "    <tr>\n",
       "      <th>360</th>\n",
       "      <td>2017-12-27</td>\n",
       "      <td>280.0</td>\n",
       "      <td>2017</td>\n",
       "      <td>52</td>\n",
       "      <td>27</td>\n",
       "      <td>2</td>\n",
       "    </tr>\n",
       "    <tr>\n",
       "      <th>361</th>\n",
       "      <td>2017-12-28</td>\n",
       "      <td>114.0</td>\n",
       "      <td>2017</td>\n",
       "      <td>52</td>\n",
       "      <td>28</td>\n",
       "      <td>3</td>\n",
       "    </tr>\n",
       "    <tr>\n",
       "      <th>362</th>\n",
       "      <td>2017-12-29</td>\n",
       "      <td>121.0</td>\n",
       "      <td>2017</td>\n",
       "      <td>52</td>\n",
       "      <td>29</td>\n",
       "      <td>4</td>\n",
       "    </tr>\n",
       "    <tr>\n",
       "      <th>363</th>\n",
       "      <td>2017-12-30</td>\n",
       "      <td>121.0</td>\n",
       "      <td>2017</td>\n",
       "      <td>52</td>\n",
       "      <td>30</td>\n",
       "      <td>5</td>\n",
       "    </tr>\n",
       "    <tr>\n",
       "      <th>364</th>\n",
       "      <td>2017-12-31</td>\n",
       "      <td>112.0</td>\n",
       "      <td>2017</td>\n",
       "      <td>52</td>\n",
       "      <td>31</td>\n",
       "      <td>6</td>\n",
       "    </tr>\n",
       "  </tbody>\n",
       "</table>\n",
       "<p>349 rows × 6 columns</p>\n",
       "</div>"
      ],
      "text/plain": [
       "          Date  Quantity  Year  Week  Day  Weekday\n",
       "3   2017-01-04     621.0  2017     1    4        2\n",
       "4   2017-01-05    2683.0  2017     1    5        3\n",
       "5   2017-01-06    1324.0  2017     1    6        4\n",
       "6   2017-01-07     105.0  2017     1    7        5\n",
       "7   2017-01-08     384.0  2017     1    8        6\n",
       "..         ...       ...   ...   ...  ...      ...\n",
       "360 2017-12-27     280.0  2017    52   27        2\n",
       "361 2017-12-28     114.0  2017    52   28        3\n",
       "362 2017-12-29     121.0  2017    52   29        4\n",
       "363 2017-12-30     121.0  2017    52   30        5\n",
       "364 2017-12-31     112.0  2017    52   31        6\n",
       "\n",
       "[349 rows x 6 columns]"
      ]
     },
     "execution_count": 41,
     "metadata": {},
     "output_type": "execute_result"
    }
   ],
   "source": [
    "df2"
   ]
  },
  {
   "cell_type": "markdown",
   "metadata": {},
   "source": [
    "# Splitting the dataset"
   ]
  },
  {
   "cell_type": "code",
   "execution_count": 42,
   "metadata": {
    "scrolled": true
   },
   "outputs": [],
   "source": [
    "#Breaking the data and selecting features , predictors\n",
    "from sklearn.model_selection import train_test_split\n",
    "predictors=df2.drop(['Quantity','Date'],axis=1)\n",
    "target=df2['Quantity']\n",
    "x_train,x_cv,y_train,y_cv=train_test_split(predictors,target,test_size=0.1,random_state=7)\n",
    "\n",
    "# x_train -> Year, Week, Day, Weekday ...... shape(314*4)\n",
    "# x_cv Year, Week, Day, Weekday ...... shape(35*4)\n",
    "# y_train -> quantity ......... shape(314,)\n",
    "# y_cv -> qunatity ........... shape(35,)"
   ]
  },
  {
   "cell_type": "code",
   "execution_count": 43,
   "metadata": {},
   "outputs": [],
   "source": [
    "#Comparing Algorithms\n",
    "def scores(i):\n",
    "    lin = i()\n",
    "    lin.fit(x_train, y_train)\n",
    "    y_pred=lin.predict(x_cv)\n",
    "    lin_r= r2_score(y_cv, y_pred)\n",
    "    s.append(lin_r)\n",
    "#Checking the scores by using our function\n",
    "algos=[LinearRegression,KNeighborsRegressor,RandomForestRegressor,Lasso,ElasticNet,DecisionTreeRegressor]\n",
    "s=[]\n",
    "for i in algos:\n",
    "    scores(i)"
   ]
  },
  {
   "cell_type": "code",
   "execution_count": 44,
   "metadata": {},
   "outputs": [
    {
     "data": {
      "text/html": [
       "<div>\n",
       "<style scoped>\n",
       "    .dataframe tbody tr th:only-of-type {\n",
       "        vertical-align: middle;\n",
       "    }\n",
       "\n",
       "    .dataframe tbody tr th {\n",
       "        vertical-align: top;\n",
       "    }\n",
       "\n",
       "    .dataframe thead th {\n",
       "        text-align: right;\n",
       "    }\n",
       "</style>\n",
       "<table border=\"1\" class=\"dataframe\">\n",
       "  <thead>\n",
       "    <tr style=\"text-align: right;\">\n",
       "      <th></th>\n",
       "      <th>Models</th>\n",
       "      <th>R2-Score</th>\n",
       "    </tr>\n",
       "  </thead>\n",
       "  <tbody>\n",
       "    <tr>\n",
       "      <th>0</th>\n",
       "      <td>LinearRegression</td>\n",
       "      <td>0.318481</td>\n",
       "    </tr>\n",
       "    <tr>\n",
       "      <th>3</th>\n",
       "      <td>Lasso</td>\n",
       "      <td>0.318292</td>\n",
       "    </tr>\n",
       "    <tr>\n",
       "      <th>4</th>\n",
       "      <td>DecisionTreeRegressor</td>\n",
       "      <td>0.307833</td>\n",
       "    </tr>\n",
       "    <tr>\n",
       "      <th>2</th>\n",
       "      <td>RandomForestRegressor</td>\n",
       "      <td>0.253139</td>\n",
       "    </tr>\n",
       "    <tr>\n",
       "      <th>1</th>\n",
       "      <td>KNeighborsRegressor</td>\n",
       "      <td>-0.103524</td>\n",
       "    </tr>\n",
       "  </tbody>\n",
       "</table>\n",
       "</div>"
      ],
      "text/plain": [
       "                  Models  R2-Score\n",
       "0       LinearRegression  0.318481\n",
       "3                  Lasso  0.318292\n",
       "4  DecisionTreeRegressor  0.307833\n",
       "2  RandomForestRegressor  0.253139\n",
       "1    KNeighborsRegressor -0.103524"
      ]
     },
     "execution_count": 44,
     "metadata": {},
     "output_type": "execute_result"
    }
   ],
   "source": [
    "#Checking the score\n",
    "models = pd.DataFrame({\n",
    "    'Models': ['LinearRegression', 'KNeighborsRegressor', \n",
    "              'RandomForestRegressor', 'Lasso','DecisionTreeRegressor'],\n",
    "    'R2-Score': [s[0],s[1],s[2],s[3],s[4]]})\n",
    "models.sort_values(by='R2-Score', ascending=False)"
   ]
  },
  {
   "cell_type": "markdown",
   "metadata": {},
   "source": [
    "As we can see Linear regression will give the best R squared score for our dataset.\n",
    "As we have evaluated, let's run for Random Forest Regressor and see how it performs."
   ]
  },
  {
   "cell_type": "code",
   "execution_count": 45,
   "metadata": {},
   "outputs": [
    {
     "data": {
      "text/plain": [
       "RandomForestRegressor()"
      ]
     },
     "execution_count": 45,
     "metadata": {},
     "output_type": "execute_result"
    }
   ],
   "source": [
    "#Hypertuned Model\n",
    "model = RandomForestRegressor()\n",
    "# bootstrap=True, criterion='mse', max_depth=None,\n",
    "#                       max_features='auto', max_leaf_nodes=None,\n",
    "#                       min_impurity_decrease=0.0, min_impurity_split=None,\n",
    "#                       min_samples_leaf=4, min_samples_split=2,\n",
    "#                       min_weight_fraction_leaf=0.0, n_estimators=10, n_jobs=3,\n",
    "#                       oob_score=True, random_state=7, verbose=0,\n",
    "#                       warm_start=False\n",
    "\n",
    "\n",
    "\n",
    "model.fit(x_train,y_train)"
   ]
  },
  {
   "cell_type": "code",
   "execution_count": 46,
   "metadata": {},
   "outputs": [
    {
     "data": {
      "text/plain": [
       "-0.26323232493450366"
      ]
     },
     "execution_count": 46,
     "metadata": {},
     "output_type": "execute_result"
    }
   ],
   "source": [
    "pred = model.predict(x_cv)\n",
    "# R2 Score\n",
    "r2_score(pred, y_cv)"
   ]
  },
  {
   "cell_type": "code",
   "execution_count": 47,
   "metadata": {},
   "outputs": [
    {
     "data": {
      "text/plain": [
       "-37.7704889726143"
      ]
     },
     "execution_count": 47,
     "metadata": {},
     "output_type": "execute_result"
    }
   ],
   "source": [
    "def mean_percentage_error(y_cv, pred): \n",
    "    y_cv, pred = np.array(y_cv), np.array(pred)\n",
    "    return np.mean(np.array((y_cv - pred) / y_cv)) * 100\n",
    "mean_percentage_error(y_cv, pred)"
   ]
  },
  {
   "cell_type": "markdown",
   "metadata": {},
   "source": [
    "let's predict for the 2018 Jan dataset, we have created earlier"
   ]
  },
  {
   "cell_type": "code",
   "execution_count": 48,
   "metadata": {},
   "outputs": [
    {
     "data": {
      "text/html": [
       "<div>\n",
       "<style scoped>\n",
       "    .dataframe tbody tr th:only-of-type {\n",
       "        vertical-align: middle;\n",
       "    }\n",
       "\n",
       "    .dataframe tbody tr th {\n",
       "        vertical-align: top;\n",
       "    }\n",
       "\n",
       "    .dataframe thead th {\n",
       "        text-align: right;\n",
       "    }\n",
       "</style>\n",
       "<table border=\"1\" class=\"dataframe\">\n",
       "  <thead>\n",
       "    <tr style=\"text-align: right;\">\n",
       "      <th></th>\n",
       "      <th>Date</th>\n",
       "      <th>Year</th>\n",
       "      <th>Week</th>\n",
       "      <th>Day</th>\n",
       "      <th>Weekday</th>\n",
       "      <th>Quantity</th>\n",
       "    </tr>\n",
       "  </thead>\n",
       "  <tbody>\n",
       "    <tr>\n",
       "      <th>0</th>\n",
       "      <td>2018-01-01</td>\n",
       "      <td>2018</td>\n",
       "      <td>1</td>\n",
       "      <td>1</td>\n",
       "      <td>0</td>\n",
       "      <td>1164.0</td>\n",
       "    </tr>\n",
       "    <tr>\n",
       "      <th>1</th>\n",
       "      <td>2018-01-02</td>\n",
       "      <td>2018</td>\n",
       "      <td>1</td>\n",
       "      <td>2</td>\n",
       "      <td>1</td>\n",
       "      <td>1151.0</td>\n",
       "    </tr>\n",
       "    <tr>\n",
       "      <th>2</th>\n",
       "      <td>2018-01-03</td>\n",
       "      <td>2018</td>\n",
       "      <td>1</td>\n",
       "      <td>3</td>\n",
       "      <td>2</td>\n",
       "      <td>1130.0</td>\n",
       "    </tr>\n",
       "    <tr>\n",
       "      <th>3</th>\n",
       "      <td>2018-01-04</td>\n",
       "      <td>2018</td>\n",
       "      <td>1</td>\n",
       "      <td>4</td>\n",
       "      <td>3</td>\n",
       "      <td>1342.0</td>\n",
       "    </tr>\n",
       "    <tr>\n",
       "      <th>4</th>\n",
       "      <td>2018-01-05</td>\n",
       "      <td>2018</td>\n",
       "      <td>1</td>\n",
       "      <td>5</td>\n",
       "      <td>4</td>\n",
       "      <td>1882.0</td>\n",
       "    </tr>\n",
       "  </tbody>\n",
       "</table>\n",
       "</div>"
      ],
      "text/plain": [
       "        Date  Year  Week  Day  Weekday  Quantity\n",
       "0 2018-01-01  2018     1    1        0    1164.0\n",
       "1 2018-01-02  2018     1    2        1    1151.0\n",
       "2 2018-01-03  2018     1    3        2    1130.0\n",
       "3 2018-01-04  2018     1    4        3    1342.0\n",
       "4 2018-01-05  2018     1    5        4    1882.0"
      ]
     },
     "execution_count": 48,
     "metadata": {},
     "output_type": "execute_result"
    }
   ],
   "source": [
    "test1=test.drop(['Quantity', 'Date'],axis=1)\n",
    "pred2=model.predict(test1)\n",
    "test['Quantity']=pred2.round(0)\n",
    "test.head()"
   ]
  },
  {
   "cell_type": "code",
   "execution_count": 50,
   "metadata": {},
   "outputs": [
    {
     "data": {
      "text/html": [
       "<div>\n",
       "<style scoped>\n",
       "    .dataframe tbody tr th:only-of-type {\n",
       "        vertical-align: middle;\n",
       "    }\n",
       "\n",
       "    .dataframe tbody tr th {\n",
       "        vertical-align: top;\n",
       "    }\n",
       "\n",
       "    .dataframe thead th {\n",
       "        text-align: right;\n",
       "    }\n",
       "</style>\n",
       "<table border=\"1\" class=\"dataframe\">\n",
       "  <thead>\n",
       "    <tr style=\"text-align: right;\">\n",
       "      <th></th>\n",
       "      <th>Date</th>\n",
       "      <th>Quantity</th>\n",
       "    </tr>\n",
       "  </thead>\n",
       "  <tbody>\n",
       "    <tr>\n",
       "      <th>0</th>\n",
       "      <td>2018-01-01</td>\n",
       "      <td>1164.0</td>\n",
       "    </tr>\n",
       "    <tr>\n",
       "      <th>1</th>\n",
       "      <td>2018-01-02</td>\n",
       "      <td>1151.0</td>\n",
       "    </tr>\n",
       "    <tr>\n",
       "      <th>2</th>\n",
       "      <td>2018-01-03</td>\n",
       "      <td>1130.0</td>\n",
       "    </tr>\n",
       "    <tr>\n",
       "      <th>3</th>\n",
       "      <td>2018-01-04</td>\n",
       "      <td>1342.0</td>\n",
       "    </tr>\n",
       "    <tr>\n",
       "      <th>4</th>\n",
       "      <td>2018-01-05</td>\n",
       "      <td>1882.0</td>\n",
       "    </tr>\n",
       "    <tr>\n",
       "      <th>5</th>\n",
       "      <td>2018-01-06</td>\n",
       "      <td>250.0</td>\n",
       "    </tr>\n",
       "    <tr>\n",
       "      <th>6</th>\n",
       "      <td>2018-01-07</td>\n",
       "      <td>288.0</td>\n",
       "    </tr>\n",
       "    <tr>\n",
       "      <th>7</th>\n",
       "      <td>2018-01-08</td>\n",
       "      <td>873.0</td>\n",
       "    </tr>\n",
       "    <tr>\n",
       "      <th>8</th>\n",
       "      <td>2018-01-09</td>\n",
       "      <td>1017.0</td>\n",
       "    </tr>\n",
       "    <tr>\n",
       "      <th>9</th>\n",
       "      <td>2018-01-10</td>\n",
       "      <td>945.0</td>\n",
       "    </tr>\n",
       "    <tr>\n",
       "      <th>10</th>\n",
       "      <td>2018-01-11</td>\n",
       "      <td>896.0</td>\n",
       "    </tr>\n",
       "    <tr>\n",
       "      <th>11</th>\n",
       "      <td>2018-01-12</td>\n",
       "      <td>1000.0</td>\n",
       "    </tr>\n",
       "    <tr>\n",
       "      <th>12</th>\n",
       "      <td>2018-01-13</td>\n",
       "      <td>108.0</td>\n",
       "    </tr>\n",
       "    <tr>\n",
       "      <th>13</th>\n",
       "      <td>2018-01-14</td>\n",
       "      <td>117.0</td>\n",
       "    </tr>\n",
       "    <tr>\n",
       "      <th>14</th>\n",
       "      <td>2018-01-15</td>\n",
       "      <td>899.0</td>\n",
       "    </tr>\n",
       "    <tr>\n",
       "      <th>15</th>\n",
       "      <td>2018-01-16</td>\n",
       "      <td>838.0</td>\n",
       "    </tr>\n",
       "    <tr>\n",
       "      <th>16</th>\n",
       "      <td>2018-01-17</td>\n",
       "      <td>716.0</td>\n",
       "    </tr>\n",
       "    <tr>\n",
       "      <th>17</th>\n",
       "      <td>2018-01-18</td>\n",
       "      <td>805.0</td>\n",
       "    </tr>\n",
       "    <tr>\n",
       "      <th>18</th>\n",
       "      <td>2018-01-19</td>\n",
       "      <td>803.0</td>\n",
       "    </tr>\n",
       "    <tr>\n",
       "      <th>19</th>\n",
       "      <td>2018-01-20</td>\n",
       "      <td>189.0</td>\n",
       "    </tr>\n",
       "    <tr>\n",
       "      <th>20</th>\n",
       "      <td>2018-01-21</td>\n",
       "      <td>201.0</td>\n",
       "    </tr>\n",
       "    <tr>\n",
       "      <th>21</th>\n",
       "      <td>2018-01-22</td>\n",
       "      <td>577.0</td>\n",
       "    </tr>\n",
       "    <tr>\n",
       "      <th>22</th>\n",
       "      <td>2018-01-23</td>\n",
       "      <td>599.0</td>\n",
       "    </tr>\n",
       "    <tr>\n",
       "      <th>23</th>\n",
       "      <td>2018-01-24</td>\n",
       "      <td>589.0</td>\n",
       "    </tr>\n",
       "    <tr>\n",
       "      <th>24</th>\n",
       "      <td>2018-01-25</td>\n",
       "      <td>607.0</td>\n",
       "    </tr>\n",
       "    <tr>\n",
       "      <th>25</th>\n",
       "      <td>2018-01-26</td>\n",
       "      <td>690.0</td>\n",
       "    </tr>\n",
       "    <tr>\n",
       "      <th>26</th>\n",
       "      <td>2018-01-27</td>\n",
       "      <td>138.0</td>\n",
       "    </tr>\n",
       "    <tr>\n",
       "      <th>27</th>\n",
       "      <td>2018-01-28</td>\n",
       "      <td>155.0</td>\n",
       "    </tr>\n",
       "    <tr>\n",
       "      <th>28</th>\n",
       "      <td>2018-01-29</td>\n",
       "      <td>823.0</td>\n",
       "    </tr>\n",
       "    <tr>\n",
       "      <th>29</th>\n",
       "      <td>2018-01-30</td>\n",
       "      <td>914.0</td>\n",
       "    </tr>\n",
       "  </tbody>\n",
       "</table>\n",
       "</div>"
      ],
      "text/plain": [
       "         Date  Quantity\n",
       "0  2018-01-01    1164.0\n",
       "1  2018-01-02    1151.0\n",
       "2  2018-01-03    1130.0\n",
       "3  2018-01-04    1342.0\n",
       "4  2018-01-05    1882.0\n",
       "5  2018-01-06     250.0\n",
       "6  2018-01-07     288.0\n",
       "7  2018-01-08     873.0\n",
       "8  2018-01-09    1017.0\n",
       "9  2018-01-10     945.0\n",
       "10 2018-01-11     896.0\n",
       "11 2018-01-12    1000.0\n",
       "12 2018-01-13     108.0\n",
       "13 2018-01-14     117.0\n",
       "14 2018-01-15     899.0\n",
       "15 2018-01-16     838.0\n",
       "16 2018-01-17     716.0\n",
       "17 2018-01-18     805.0\n",
       "18 2018-01-19     803.0\n",
       "19 2018-01-20     189.0\n",
       "20 2018-01-21     201.0\n",
       "21 2018-01-22     577.0\n",
       "22 2018-01-23     599.0\n",
       "23 2018-01-24     589.0\n",
       "24 2018-01-25     607.0\n",
       "25 2018-01-26     690.0\n",
       "26 2018-01-27     138.0\n",
       "27 2018-01-28     155.0\n",
       "28 2018-01-29     823.0\n",
       "29 2018-01-30     914.0"
      ]
     },
     "execution_count": 50,
     "metadata": {},
     "output_type": "execute_result"
    }
   ],
   "source": [
    "result=test[['Date','Quantity']]\n",
    "result"
   ]
  }
 ],
 "metadata": {
  "kernelspec": {
   "display_name": "Python 3",
   "language": "python",
   "name": "python3"
  },
  "language_info": {
   "codemirror_mode": {
    "name": "ipython",
    "version": 3
   },
   "file_extension": ".py",
   "mimetype": "text/x-python",
   "name": "python",
   "nbconvert_exporter": "python",
   "pygments_lexer": "ipython3",
   "version": "3.6.9"
  }
 },
 "nbformat": 4,
 "nbformat_minor": 4
}
